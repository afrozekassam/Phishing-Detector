{
 "cells": [
  {
   "cell_type": "markdown",
   "id": "33436b2c",
   "metadata": {},
   "source": [
    "Import statements\n"
   ]
  },
  {
   "cell_type": "code",
   "execution_count": null,
   "id": "4e9a8ff3",
   "metadata": {},
   "outputs": [],
   "source": [
    "import numpy as np\n",
    "import pandas as pd\n",
    "from sklearn.model_selection import train_test_split\n",
    "from sklearn.linear_model import LogisticRegression\n",
    "from sklearn.metrics import confusion_matrix, ConfusionMatrixDisplay\n",
    "from sklearn.metrics import accuracy_score, classification_report\n",
    "from sklearn.feature_extraction.text import TfidfVectorizer\n"
   ]
  },
  {
   "cell_type": "markdown",
   "id": "19266b57",
   "metadata": {},
   "source": [
    "Loading and preprocessing dataset"
   ]
  },
  {
   "cell_type": "code",
   "execution_count": null,
   "id": "3ffd696b",
   "metadata": {},
   "outputs": [],
   "source": [
    "df = pd.read_csv(\"Phishing_Email.csv\")\n",
    "if 'Unnamed: 0' in df.columns:\n",
    "        df.drop(columns=['Unnamed: 0'], inplace=True)"
   ]
  },
  {
   "cell_type": "code",
   "execution_count": null,
   "id": "c8735cc2",
   "metadata": {},
   "outputs": [],
   "source": [
    "print(df['Email Text'].isnull().sum())\n",
    "df.dropna(subset=['Email Text'], inplace=True)\n",
    "print(df['Email Text'].isnull().sum())"
   ]
  },
  {
   "cell_type": "markdown",
   "id": "f1cdaf8f",
   "metadata": {},
   "source": []
  },
  {
   "cell_type": "code",
   "execution_count": null,
   "id": "f111bdbe",
   "metadata": {},
   "outputs": [],
   "source": [
    "df['Email Type'] = df['Email Type'].map({'Phishing Email': 1, 'Safe Email': 0})\n",
    "df.head()\n"
   ]
  },
  {
   "cell_type": "markdown",
   "id": "548ddb2c",
   "metadata": {},
   "source": [
    "split data for training"
   ]
  },
  {
   "cell_type": "code",
   "execution_count": null,
   "id": "7ba4bc2f",
   "metadata": {},
   "outputs": [],
   "source": [
    "x=df['Email Text']\n",
    "y=df['Email Type']\n",
    "\n",
    "x_train, x_test, y_train, y_test = train_test_split(x, y, test_size=0.2, random_state=42)"
   ]
  },
  {
   "cell_type": "code",
   "execution_count": null,
   "id": "f351e2aa",
   "metadata": {},
   "outputs": [],
   "source": []
  },
  {
   "cell_type": "markdown",
   "id": "e031ddef",
   "metadata": {},
   "source": [
    "vectorize text: Scores words based on how often it is used in other emails text (x)"
   ]
  },
  {
   "cell_type": "code",
   "execution_count": null,
   "id": "9879a075",
   "metadata": {},
   "outputs": [],
   "source": [
    "vectorizer = TfidfVectorizer(stop_words='english', max_features=5000, ngram_range=(1, 2))\n",
    "x_train_vectorized = vectorizer.fit_transform(x_train)\n",
    "x_test_vectorized = vectorizer.transform(x_test)\n"
   ]
  },
  {
   "cell_type": "markdown",
   "id": "ebfe2f0a",
   "metadata": {},
   "source": [
    "Logistic regression\n"
   ]
  },
  {
   "cell_type": "code",
   "execution_count": null,
   "id": "7c49e9bf",
   "metadata": {},
   "outputs": [],
   "source": [
    "lg_model = LogisticRegression(max_iter=1000)\n",
    "# train model on training data \n",
    "lg_model.fit(x_train_vectorized, y_train)\n"
   ]
  },
  {
   "cell_type": "code",
   "execution_count": null,
   "id": "3d01da04",
   "metadata": {},
   "outputs": [],
   "source": [
    "# Predict labels for the test set\n",
    "y_pred = lg_model.predict(x_test_vectorized)\n",
    "\n",
    "# Compare predictions to true labels\n",
    "from sklearn.metrics import accuracy_score\n",
    "accuracy = accuracy_score(y_test, y_pred)\n",
    "print(f\"Test accuracy: {accuracy:.2f}\")\n"
   ]
  },
  {
   "cell_type": "markdown",
   "id": "a2dd0f80",
   "metadata": {},
   "source": [
    "confusion matrix"
   ]
  },
  {
   "cell_type": "code",
   "execution_count": null,
   "id": "9820b38b",
   "metadata": {},
   "outputs": [],
   "source": [
    "from sklearn.metrics import confusion_matrix, ConfusionMatrixDisplay\n",
    "import matplotlib.pyplot as plt\n",
    "\n",
    "# Get predictions from your model on test data\n",
    "y_pred = lg_model.predict(x_test_vectorized)\n",
    "\n",
    "# Create confusion matrix\n",
    "cm = confusion_matrix(y_test, y_pred)\n",
    "\n",
    "# Display it nicely\n",
    "disp = ConfusionMatrixDisplay(confusion_matrix=cm, display_labels=['Safe', 'Phishing'])\n",
    "disp.plot(cmap=plt.cm.Blues)\n",
    "plt.show()\n"
   ]
  },
  {
   "cell_type": "code",
   "execution_count": null,
   "id": "c5839453",
   "metadata": {},
   "outputs": [],
   "source": [
    "from sklearn.metrics import precision_score, recall_score, f1_score\n",
    "\n",
    "precision = precision_score(y_test, y_pred)\n",
    "recall = recall_score(y_test, y_pred)\n",
    "f1 = f1_score(y_test, y_pred)\n",
    "\n",
    "print(f\"Precision: {precision:.2f}\")\n",
    "print(f\"Recall: {recall:.2f}\")\n",
    "print(f\"F1 Score: {f1:.2f}\")"
   ]
  },
  {
   "cell_type": "code",
   "execution_count": null,
   "id": "fd241381",
   "metadata": {},
   "outputs": [],
   "source": [
    "from sklearn.naive_bayes import MultinomialNB\n",
    "from sklearn.metrics import accuracy_score, precision_score, recall_score, f1_score\n",
    "\n",
    "# Initialize model\n",
    "nb_model = MultinomialNB()\n",
    "\n",
    "# Train\n",
    "nb_model.fit(x_train_vectorized, y_train)\n",
    "\n",
    "# Predict\n",
    "y_pred_nb = nb_model.predict(x_test_vectorized)\n",
    "\n",
    "# Evaluate\n",
    "print(\"Naive Bayes Test Accuracy:\", accuracy_score(y_test, y_pred_nb))\n",
    "print(\"Precision:\", precision_score(y_test, y_pred_nb))\n",
    "print(\"Recall:\", recall_score(y_test, y_pred_nb))\n",
    "print(\"F1 Score:\", f1_score(y_test, y_pred_nb))\n"
   ]
  },
  {
   "cell_type": "code",
   "execution_count": null,
   "id": "1b37de70",
   "metadata": {},
   "outputs": [],
   "source": [
    "def predict_raw_email(text, model, vectorizer):\n",
    "    vect = vectorizer.transform([text])  # no cleaning here\n",
    "    pred = model.predict(vect)[0]\n",
    "    return \"Phishing Email\" if pred == 1 else \"Safe Email\"\n"
   ]
  },
  {
   "cell_type": "code",
   "execution_count": null,
   "id": "6894c142",
   "metadata": {},
   "outputs": [],
   "source": [
    "my_email = \"Hi team,Just a quick reminder about our meeting scheduled for tomorrow at 10 AM. Please make sure to review the agenda beforehand.Thanks,Alex\"\n",
    "\n",
    "result = predict_raw_email(my_email, lg_model, vectorizer)\n",
    "print(result)\n"
   ]
  },
  {
   "cell_type": "code",
   "execution_count": null,
   "id": "95a7d4a9",
   "metadata": {},
   "outputs": [],
   "source": [
    "import ipywidgets as widgets\n",
    "from IPython.display import display\n",
    "\n",
    "# Create a text area\n",
    "email_input = widgets.Textarea(\n",
    "    value='',\n",
    "    placeholder='Paste email text here...',\n",
    "    description='Email:',\n",
    "    layout=widgets.Layout(width='80%', height='200px')\n",
    ")\n",
    "\n",
    "# Button to trigger prediction\n",
    "predict_button = widgets.Button(description=\"Check Email\")\n",
    "\n",
    "# Output area\n",
    "output = widgets.Output()\n",
    "\n",
    "# Function to handle prediction\n",
    "def predict_email_type(b):\n",
    "    with output:\n",
    "        output.clear_output()\n",
    "        input_text = email_input.value\n",
    "        if input_text.strip() == \"\":\n",
    "            print(\"Please enter email content.\")\n",
    "            return\n",
    "        input_vector = vectorizer.transform([input_text])\n",
    "        prediction = lg_model.predict(input_vector)[0]\n",
    "        result = \"Phishing Email\" if prediction == 1 else \"Safe Email\"\n",
    "        print(f\"Prediction: {result}\")\n",
    "\n",
    "# Link button click to function\n",
    "predict_button.on_click(predict_email_type)\n",
    "\n",
    "# Display all widgets\n",
    "display(email_input, predict_button, output)\n"
   ]
  },
  {
   "cell_type": "code",
   "execution_count": null,
   "id": "06219764",
   "metadata": {},
   "outputs": [],
   "source": [
    "import pickle\n",
    "\n",
    "# Save the trained model\n",
    "with open(\"model.pkl\", \"wb\") as f:\n",
    "    pickle.dump(lg_model, f)\n",
    "\n",
    "# Save the TF-IDF vectorizer\n",
    "with open(\"tfidf.pkl\", \"wb\") as f:\n",
    "    pickle.dump(vectorizer, f)\n"
   ]
  }
 ],
 "metadata": {
  "kernelspec": {
   "display_name": "Python 3",
   "language": "python",
   "name": "python3"
  },
  "language_info": {
   "codemirror_mode": {
    "name": "ipython",
    "version": 3
   },
   "file_extension": ".py",
   "mimetype": "text/x-python",
   "name": "python",
   "nbconvert_exporter": "python",
   "pygments_lexer": "ipython3",
   "version": "3.10.11"
  }
 },
 "nbformat": 4,
 "nbformat_minor": 5
}
